{
 "cells": [
  {
   "cell_type": "code",
   "execution_count": 1,
   "metadata": {},
   "outputs": [],
   "source": [
    "#This is a program to convert heic images to png images\n",
    "#This program uses the pyheif library to convert heic images to png images\n",
    "#This program uses the pillow library to save the png images\n",
    "#This program uses the os library to list all the files in a directory\n",
    "#This program uses the sys library to get the command line arguments\n",
    "from PIL import Image\n",
    "from pillow_heif import register_heif_opener\n",
    "from heic2png import HEIC2PNG\n",
    "import os\n",
    "import sys\n"
   ]
  },
  {
   "cell_type": "code",
   "execution_count": 35,
   "metadata": {},
   "outputs": [
    {
     "data": {
      "text/plain": [
       "False"
      ]
     },
     "execution_count": 35,
     "metadata": {},
     "output_type": "execute_result"
    }
   ],
   "source": [
    "os.listdir(r\"C:\\Users\\progra.DESKTOP-GV4Q93K\\Documents\\Vstudio\\Fotos\\Kaleb\")[9].endswith(\".heic\")"
   ]
  },
  {
   "cell_type": "code",
   "execution_count": 9,
   "metadata": {},
   "outputs": [
    {
     "name": "stdout",
     "output_type": "stream",
     "text": [
      "IMG_2402.heic\n",
      "IMG_2407.heic\n",
      "IMG_2415.heic\n",
      "IMG_2470.heic\n",
      "IMG_2474.heic\n",
      "IMG_2527.heic\n",
      "IMG_2535.heic\n",
      "IMG_2575.heic\n",
      "IMG_2587.heic\n",
      "IMG_2596.heic\n"
     ]
    }
   ],
   "source": [
    "register_heif_opener()\n",
    "#iterate through all the files heic files in the directory\n",
    "for item in os.listdir(r\"C:\\Users\\progra.DESKTOP-GV4Q93K\\Documents\\Vstudio\\Fotos\"):\n",
    "    \n",
    "    if item.endswith(\".heic\"):\n",
    "        print(item)\n",
    "        #create the heic2png object\n",
    "        heic2png = HEIC2PNG(item)\n",
    "        #convert the heic image to a png image\n",
    "        heic2png.save(item + \".png\")\n",
    "        #save the png image\n",
    "    if item.endswith(\".HEIC\"):\n",
    "        #create the heic2png object\n",
    "        heic2png = HEIC2PNG(item)\n",
    "        #convert the heic image to a png image\n",
    "        heic2png.save(item + \".png\")\n",
    "        #save the png image\n",
    "    else:\n",
    "        pass"
   ]
  }
 ],
 "metadata": {
  "kernelspec": {
   "display_name": "personal",
   "language": "python",
   "name": "python3"
  },
  "language_info": {
   "codemirror_mode": {
    "name": "ipython",
    "version": 3
   },
   "file_extension": ".py",
   "mimetype": "text/x-python",
   "name": "python",
   "nbconvert_exporter": "python",
   "pygments_lexer": "ipython3",
   "version": "3.11.9"
  }
 },
 "nbformat": 4,
 "nbformat_minor": 2
}
